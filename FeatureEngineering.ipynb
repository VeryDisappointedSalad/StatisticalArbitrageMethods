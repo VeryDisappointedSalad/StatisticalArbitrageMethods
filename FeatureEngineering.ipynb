{
 "cells": [
  {
   "cell_type": "markdown",
   "metadata": {},
   "source": [
    "# Libraries"
   ]
  },
  {
   "cell_type": "code",
   "execution_count": 16,
   "metadata": {},
   "outputs": [],
   "source": [
    "import os\n",
    "import pandas as pd\n",
    "\n",
    "from datetime import datetime\n",
    "from vaderSentiment.vaderSentiment import SentimentIntensityAnalyzer"
   ]
  },
  {
   "cell_type": "markdown",
   "metadata": {},
   "source": [
    "# Functions"
   ]
  },
  {
   "cell_type": "markdown",
   "metadata": {},
   "source": [
    "### Data"
   ]
  },
  {
   "cell_type": "code",
   "execution_count": 17,
   "metadata": {},
   "outputs": [],
   "source": [
    "PATH = 'Data/Real/'"
   ]
  },
  {
   "cell_type": "code",
   "execution_count": 18,
   "metadata": {},
   "outputs": [],
   "source": [
    "def load_data(ind = 0, # which of the file\n",
    "              type = 'Financial/',  # type = ['Text', 'Financial']\n",
    "              ):\n",
    "    \n",
    "    assert ind < len(os.listdir(PATH + type)) , f'Chose {ind + 1}. file out of *{len(os.listdir(PATH + type))}* files'\n",
    "    print(f'Loading {os.listdir(PATH + type)[ind]}')\n",
    "    return pd.read_csv(PATH + type + os.listdir(PATH + type)[ind])"
   ]
  },
  {
   "cell_type": "code",
   "execution_count": 30,
   "metadata": {},
   "outputs": [
    {
     "name": "stdout",
     "output_type": "stream",
     "text": [
      "Loading microprocessor_stocks_2023-25.csv\n"
     ]
    },
    {
     "data": {
      "text/plain": [
       "array(['NVDA', 'AMD', 'INTC', 'TSM', 'QCOM', 'TXN', 'AVGO', 'MU', 'ASML',\n",
       "       'MRVL'], dtype=object)"
      ]
     },
     "execution_count": 30,
     "metadata": {},
     "output_type": "execute_result"
    }
   ],
   "source": [
    "# Load data and get tickers\n",
    "X_financial = load_data(1, type = 'Financial/')\n",
    "\n",
    "TICKERS = X_financial['ticker'].unique()\n",
    "TICKERS"
   ]
  },
  {
   "cell_type": "markdown",
   "metadata": {},
   "source": [
    "### Financial feature engineering"
   ]
  },
  {
   "cell_type": "code",
   "execution_count": 20,
   "metadata": {},
   "outputs": [
    {
     "data": {
      "text/html": [
       "<div>\n",
       "<style scoped>\n",
       "    .dataframe tbody tr th:only-of-type {\n",
       "        vertical-align: middle;\n",
       "    }\n",
       "\n",
       "    .dataframe tbody tr th {\n",
       "        vertical-align: top;\n",
       "    }\n",
       "\n",
       "    .dataframe thead th {\n",
       "        text-align: right;\n",
       "    }\n",
       "</style>\n",
       "<table border=\"1\" class=\"dataframe\">\n",
       "  <thead>\n",
       "    <tr style=\"text-align: right;\">\n",
       "      <th></th>\n",
       "      <th>close</th>\n",
       "      <th>volume</th>\n",
       "      <th>ticker</th>\n",
       "    </tr>\n",
       "  </thead>\n",
       "  <tbody>\n",
       "    <tr>\n",
       "      <th>0</th>\n",
       "      <td>19.400</td>\n",
       "      <td>13630.0</td>\n",
       "      <td>NVDA</td>\n",
       "    </tr>\n",
       "    <tr>\n",
       "      <th>1</th>\n",
       "      <td>19.432</td>\n",
       "      <td>2840.0</td>\n",
       "      <td>NVDA</td>\n",
       "    </tr>\n",
       "    <tr>\n",
       "      <th>2</th>\n",
       "      <td>19.408</td>\n",
       "      <td>15520.0</td>\n",
       "      <td>NVDA</td>\n",
       "    </tr>\n",
       "    <tr>\n",
       "      <th>3</th>\n",
       "      <td>19.398</td>\n",
       "      <td>17810.0</td>\n",
       "      <td>NVDA</td>\n",
       "    </tr>\n",
       "    <tr>\n",
       "      <th>4</th>\n",
       "      <td>19.445</td>\n",
       "      <td>10840.0</td>\n",
       "      <td>NVDA</td>\n",
       "    </tr>\n",
       "  </tbody>\n",
       "</table>\n",
       "</div>"
      ],
      "text/plain": [
       "    close   volume ticker\n",
       "0  19.400  13630.0   NVDA\n",
       "1  19.432   2840.0   NVDA\n",
       "2  19.408  15520.0   NVDA\n",
       "3  19.398  17810.0   NVDA\n",
       "4  19.445  10840.0   NVDA"
      ]
     },
     "execution_count": 20,
     "metadata": {},
     "output_type": "execute_result"
    }
   ],
   "source": [
    "X_financial['timestamp'] = pd.to_datetime(X_financial['timestamp'])\n",
    "X_financial = X_financial[['close', 'volume', 'ticker']]\n",
    "\n",
    "X_financial.head()"
   ]
  },
  {
   "cell_type": "code",
   "execution_count": 21,
   "metadata": {},
   "outputs": [],
   "source": [
    "# Choose start and end date for financial data so that is starts and ends in the spot for all available tickers\n",
    "start_date = max([X_financial[X_financial['ticker'] == t].index[0] for t in X_financial['ticker'].unique()])\n",
    "end_date   = max([X_financial[X_financial['ticker'] == t].index[-1] for t in X_financial['ticker'].unique()])\n",
    "\n",
    "X_financial = X_financial.loc[X_financial.index >= start_date]\n",
    "X_financial = X_financial.loc[X_financial.index <= end_date]"
   ]
  },
  {
   "cell_type": "markdown",
   "metadata": {},
   "source": [
    "### Textual feature engineering"
   ]
  },
  {
   "cell_type": "code",
   "execution_count": 22,
   "metadata": {},
   "outputs": [
    {
     "data": {
      "text/plain": [
       "array(['NVDA', 'AMD', 'INTC', 'TSM', 'QCOM', 'TXN', 'AVGO', 'MU', 'ASML',\n",
       "       'MRVL'], dtype=object)"
      ]
     },
     "execution_count": 22,
     "metadata": {},
     "output_type": "execute_result"
    }
   ],
   "source": [
    "# Available tickers to invest (from the financial .csv) one are\n",
    "TICKERS"
   ]
  },
  {
   "cell_type": "code",
   "execution_count": 23,
   "metadata": {},
   "outputs": [
    {
     "name": "stdout",
     "output_type": "stream",
     "text": [
      "Loading amd_news_2023_weekly_half_split_day_by_day_on_half.csv\n",
      "Loading amd_news_2024_daily.csv\n",
      "Loading avgo_news_2023_weekly_half_split_day_by_day_on_half.csv\n",
      "Loading broadcom_news_2024_daily.csv\n",
      "Loading multi_tickers_2023to2025_recursive_split.csv\n",
      "Loading nvidia_news_2023_weekly_half_split_day_by_day_on_half.csv\n",
      "Loading nvidia_news_2024_daily-10.csv\n",
      "Loading qqq_2023to2025_recursive_split.csv\n",
      "Loading spy_2023to2025_recursive_split.csv\n",
      "Loading year_2023_individual_keywords.csv\n",
      "Loading year_2023_single_call_per_keyword.csv\n",
      "Loading year_2023_single_call_per_keyword_with_keyword_field.csv\n",
      "Loading year_2024_10keywords.csv\n",
      "Loading year_2024_individual_keywords.csv\n"
     ]
    }
   ],
   "source": [
    "def convert_date(date_string):\n",
    "    date_obj = datetime.strptime(date_string, \"%a, %d %b %Y %H:%M:%S %z\")\n",
    "    # Replace with the desired date and time\n",
    "    return date_obj.strftime(\"%Y-%m-%d %H:%M:%S\")\n",
    "\n",
    "# Load the data\n",
    "X_text = pd.concat(\n",
    "    [load_data(j, type = 'Text/')[['text', 'date', 'sentiment', 'tickers']] for j in range(14)],\n",
    "    axis = 0\n",
    ")\n",
    "\n",
    "# Choose only rows with at least one ticker mentioning some ticker in TICKERS\n",
    "filtered_rows = X_text[X_text['tickers'].apply(lambda x: not set(eval(x)).isdisjoint(TICKERS))].copy()\n",
    "filtered_rows['tickers'] = filtered_rows['tickers'].apply(lambda x: [ticker for ticker in eval(x) if ticker in TICKERS])\n",
    "\n",
    "# Choose only important columns\n",
    "filtered_rows = filtered_rows[['text', 'date', 'sentiment', 'tickers']]\n",
    "\n",
    "# Format the date\n",
    "filtered_rows['date'] = filtered_rows['date'].apply(convert_date)\n",
    "\n",
    "# Bool columns for TICKERS\n",
    "for ticker in TICKERS:\n",
    "    filtered_rows[f'bool_{ticker}'] = filtered_rows['tickers'].apply(lambda x : ticker in x)\n",
    "\n",
    "# Round *up* the date to a full minute\n",
    "filtered_rows['date'] = pd.to_datetime(filtered_rows['date'])\n",
    "filtered_rows['date'] = filtered_rows['date'].dt.ceil('min')\n",
    "\n",
    "# Compute VADER sentiment scores\n",
    "analyzer = SentimentIntensityAnalyzer()\n",
    "filtered_rows['score'] = filtered_rows['text'].apply(lambda x: analyzer.polarity_scores(x)['compound'])\n",
    "\n",
    "# Sort by date\n",
    "filtered_rows = filtered_rows.sort_values(by = 'date', ascending = True)"
   ]
  },
  {
   "cell_type": "code",
   "execution_count": 24,
   "metadata": {},
   "outputs": [],
   "source": [
    "melted = filtered_rows.melt(\n",
    "    id_vars=['date', 'score', 'sentiment'], \n",
    "    value_vars=[f'bool_{ticker}' for ticker in TICKERS], \n",
    "    var_name='ticker', \n",
    "    value_name='is_present'\n",
    ")\n",
    "\n",
    "melted = melted[melted['is_present']]\n",
    "\n",
    "melted['ticker'] = melted['ticker'].str.replace('bool_', '')\n",
    "\n",
    "combined = melted.pivot_table(\n",
    "    index='date',\n",
    "    columns='ticker',\n",
    "    values=['score', 'sentiment'],\n",
    "    aggfunc='first'\n",
    ")\n",
    "\n",
    "combined.columns = [f\"{col[1]}_{col[0]}\" for col in combined.columns]\n",
    "\n",
    "combined = combined.reset_index().sort_values(by='date')\n",
    "combined.ffill(inplace=True)\n",
    "\n",
    "for col in combined.columns:\n",
    "\n",
    "    if '_sentiment' in col:\n",
    "        combined[col] = combined[col].astype('string').fillna('Neutral')\n",
    "    elif '_score' in col:\n",
    "        combined[col] = combined[col].fillna(0)\n",
    "\n",
    "\n",
    "# Ffill() wrt. the date column in minute frequency\n",
    "combined['date'] = pd.to_datetime(combined['date'])\n",
    "combined = combined.set_index(combined['date']).sort_index()\n",
    "combined = combined.resample('1min').ffill()\n",
    "\n",
    "# Outcome of hard work\n",
    "X_nlp = combined.copy()"
   ]
  },
  {
   "cell_type": "code",
   "execution_count": 25,
   "metadata": {},
   "outputs": [
    {
     "data": {
      "text/html": [
       "<div>\n",
       "<style scoped>\n",
       "    .dataframe tbody tr th:only-of-type {\n",
       "        vertical-align: middle;\n",
       "    }\n",
       "\n",
       "    .dataframe tbody tr th {\n",
       "        vertical-align: top;\n",
       "    }\n",
       "\n",
       "    .dataframe thead th {\n",
       "        text-align: right;\n",
       "    }\n",
       "</style>\n",
       "<table border=\"1\" class=\"dataframe\">\n",
       "  <thead>\n",
       "    <tr style=\"text-align: right;\">\n",
       "      <th></th>\n",
       "      <th>close</th>\n",
       "      <th>volume</th>\n",
       "      <th>ticker</th>\n",
       "    </tr>\n",
       "  </thead>\n",
       "  <tbody>\n",
       "    <tr>\n",
       "      <th>2561907</th>\n",
       "      <td>43.1500</td>\n",
       "      <td>380.0</td>\n",
       "      <td>MRVL</td>\n",
       "    </tr>\n",
       "    <tr>\n",
       "      <th>2561908</th>\n",
       "      <td>43.1500</td>\n",
       "      <td>620.0</td>\n",
       "      <td>MRVL</td>\n",
       "    </tr>\n",
       "    <tr>\n",
       "      <th>2561909</th>\n",
       "      <td>42.8100</td>\n",
       "      <td>1818.0</td>\n",
       "      <td>MRVL</td>\n",
       "    </tr>\n",
       "    <tr>\n",
       "      <th>2561910</th>\n",
       "      <td>43.0200</td>\n",
       "      <td>275.0</td>\n",
       "      <td>MRVL</td>\n",
       "    </tr>\n",
       "    <tr>\n",
       "      <th>2561911</th>\n",
       "      <td>43.1000</td>\n",
       "      <td>140.0</td>\n",
       "      <td>MRVL</td>\n",
       "    </tr>\n",
       "    <tr>\n",
       "      <th>...</th>\n",
       "      <td>...</td>\n",
       "      <td>...</td>\n",
       "      <td>...</td>\n",
       "    </tr>\n",
       "    <tr>\n",
       "      <th>2795032</th>\n",
       "      <td>125.4000</td>\n",
       "      <td>910.0</td>\n",
       "      <td>MRVL</td>\n",
       "    </tr>\n",
       "    <tr>\n",
       "      <th>2795033</th>\n",
       "      <td>125.5100</td>\n",
       "      <td>677.0</td>\n",
       "      <td>MRVL</td>\n",
       "    </tr>\n",
       "    <tr>\n",
       "      <th>2795034</th>\n",
       "      <td>125.5463</td>\n",
       "      <td>142.0</td>\n",
       "      <td>MRVL</td>\n",
       "    </tr>\n",
       "    <tr>\n",
       "      <th>2795035</th>\n",
       "      <td>125.4037</td>\n",
       "      <td>526.0</td>\n",
       "      <td>MRVL</td>\n",
       "    </tr>\n",
       "    <tr>\n",
       "      <th>2795036</th>\n",
       "      <td>125.5500</td>\n",
       "      <td>4063.0</td>\n",
       "      <td>MRVL</td>\n",
       "    </tr>\n",
       "  </tbody>\n",
       "</table>\n",
       "<p>233130 rows × 3 columns</p>\n",
       "</div>"
      ],
      "text/plain": [
       "            close  volume ticker\n",
       "2561907   43.1500   380.0   MRVL\n",
       "2561908   43.1500   620.0   MRVL\n",
       "2561909   42.8100  1818.0   MRVL\n",
       "2561910   43.0200   275.0   MRVL\n",
       "2561911   43.1000   140.0   MRVL\n",
       "...           ...     ...    ...\n",
       "2795032  125.4000   910.0   MRVL\n",
       "2795033  125.5100   677.0   MRVL\n",
       "2795034  125.5463   142.0   MRVL\n",
       "2795035  125.4037   526.0   MRVL\n",
       "2795036  125.5500  4063.0   MRVL\n",
       "\n",
       "[233130 rows x 3 columns]"
      ]
     },
     "execution_count": 25,
     "metadata": {},
     "output_type": "execute_result"
    }
   ],
   "source": [
    "X_financial"
   ]
  },
  {
   "cell_type": "markdown",
   "metadata": {},
   "source": [
    "### Match the dates on `X_financial` and `X_nlp`"
   ]
  },
  {
   "cell_type": "code",
   "execution_count": 31,
   "metadata": {},
   "outputs": [
    {
     "data": {
      "text/html": [
       "<div>\n",
       "<style scoped>\n",
       "    .dataframe tbody tr th:only-of-type {\n",
       "        vertical-align: middle;\n",
       "    }\n",
       "\n",
       "    .dataframe tbody tr th {\n",
       "        vertical-align: top;\n",
       "    }\n",
       "\n",
       "    .dataframe thead th {\n",
       "        text-align: right;\n",
       "    }\n",
       "</style>\n",
       "<table border=\"1\" class=\"dataframe\">\n",
       "  <thead>\n",
       "    <tr style=\"text-align: right;\">\n",
       "      <th></th>\n",
       "      <th>timestamp</th>\n",
       "      <th>open</th>\n",
       "      <th>high</th>\n",
       "      <th>low</th>\n",
       "      <th>close</th>\n",
       "      <th>volume</th>\n",
       "      <th>ticker</th>\n",
       "    </tr>\n",
       "  </thead>\n",
       "  <tbody>\n",
       "    <tr>\n",
       "      <th>0</th>\n",
       "      <td>2023-02-01 09:00:00</td>\n",
       "      <td>19.4040</td>\n",
       "      <td>19.404</td>\n",
       "      <td>19.4000</td>\n",
       "      <td>19.4000</td>\n",
       "      <td>13630.0</td>\n",
       "      <td>NVDA</td>\n",
       "    </tr>\n",
       "    <tr>\n",
       "      <th>1</th>\n",
       "      <td>2023-02-01 09:01:00</td>\n",
       "      <td>19.4320</td>\n",
       "      <td>19.432</td>\n",
       "      <td>19.4320</td>\n",
       "      <td>19.4320</td>\n",
       "      <td>2840.0</td>\n",
       "      <td>NVDA</td>\n",
       "    </tr>\n",
       "    <tr>\n",
       "      <th>2</th>\n",
       "      <td>2023-02-01 09:02:00</td>\n",
       "      <td>19.4060</td>\n",
       "      <td>19.411</td>\n",
       "      <td>19.4060</td>\n",
       "      <td>19.4080</td>\n",
       "      <td>15520.0</td>\n",
       "      <td>NVDA</td>\n",
       "    </tr>\n",
       "    <tr>\n",
       "      <th>3</th>\n",
       "      <td>2023-02-01 09:04:00</td>\n",
       "      <td>19.4100</td>\n",
       "      <td>19.410</td>\n",
       "      <td>19.3980</td>\n",
       "      <td>19.3980</td>\n",
       "      <td>17810.0</td>\n",
       "      <td>NVDA</td>\n",
       "    </tr>\n",
       "    <tr>\n",
       "      <th>4</th>\n",
       "      <td>2023-02-01 09:05:00</td>\n",
       "      <td>19.4450</td>\n",
       "      <td>19.445</td>\n",
       "      <td>19.4450</td>\n",
       "      <td>19.4450</td>\n",
       "      <td>10840.0</td>\n",
       "      <td>NVDA</td>\n",
       "    </tr>\n",
       "    <tr>\n",
       "      <th>...</th>\n",
       "      <td>...</td>\n",
       "      <td>...</td>\n",
       "      <td>...</td>\n",
       "      <td>...</td>\n",
       "      <td>...</td>\n",
       "      <td>...</td>\n",
       "      <td>...</td>\n",
       "    </tr>\n",
       "    <tr>\n",
       "      <th>419511</th>\n",
       "      <td>2025-01-18 00:55:00</td>\n",
       "      <td>137.6100</td>\n",
       "      <td>137.620</td>\n",
       "      <td>137.5000</td>\n",
       "      <td>137.6000</td>\n",
       "      <td>26272.0</td>\n",
       "      <td>NVDA</td>\n",
       "    </tr>\n",
       "    <tr>\n",
       "      <th>419512</th>\n",
       "      <td>2025-01-18 00:56:00</td>\n",
       "      <td>137.6000</td>\n",
       "      <td>137.600</td>\n",
       "      <td>137.5801</td>\n",
       "      <td>137.5901</td>\n",
       "      <td>2347.0</td>\n",
       "      <td>NVDA</td>\n",
       "    </tr>\n",
       "    <tr>\n",
       "      <th>419513</th>\n",
       "      <td>2025-01-18 00:57:00</td>\n",
       "      <td>137.5998</td>\n",
       "      <td>137.600</td>\n",
       "      <td>137.5700</td>\n",
       "      <td>137.5800</td>\n",
       "      <td>23597.0</td>\n",
       "      <td>NVDA</td>\n",
       "    </tr>\n",
       "    <tr>\n",
       "      <th>419514</th>\n",
       "      <td>2025-01-18 00:58:00</td>\n",
       "      <td>137.5800</td>\n",
       "      <td>137.620</td>\n",
       "      <td>137.5701</td>\n",
       "      <td>137.6200</td>\n",
       "      <td>14331.0</td>\n",
       "      <td>NVDA</td>\n",
       "    </tr>\n",
       "    <tr>\n",
       "      <th>419515</th>\n",
       "      <td>2025-01-18 00:59:00</td>\n",
       "      <td>137.6390</td>\n",
       "      <td>137.650</td>\n",
       "      <td>137.6000</td>\n",
       "      <td>137.6310</td>\n",
       "      <td>15287.0</td>\n",
       "      <td>NVDA</td>\n",
       "    </tr>\n",
       "  </tbody>\n",
       "</table>\n",
       "<p>419516 rows × 7 columns</p>\n",
       "</div>"
      ],
      "text/plain": [
       "                  timestamp      open     high       low     close   volume  \\\n",
       "0       2023-02-01 09:00:00   19.4040   19.404   19.4000   19.4000  13630.0   \n",
       "1       2023-02-01 09:01:00   19.4320   19.432   19.4320   19.4320   2840.0   \n",
       "2       2023-02-01 09:02:00   19.4060   19.411   19.4060   19.4080  15520.0   \n",
       "3       2023-02-01 09:04:00   19.4100   19.410   19.3980   19.3980  17810.0   \n",
       "4       2023-02-01 09:05:00   19.4450   19.445   19.4450   19.4450  10840.0   \n",
       "...                     ...       ...      ...       ...       ...      ...   \n",
       "419511  2025-01-18 00:55:00  137.6100  137.620  137.5000  137.6000  26272.0   \n",
       "419512  2025-01-18 00:56:00  137.6000  137.600  137.5801  137.5901   2347.0   \n",
       "419513  2025-01-18 00:57:00  137.5998  137.600  137.5700  137.5800  23597.0   \n",
       "419514  2025-01-18 00:58:00  137.5800  137.620  137.5701  137.6200  14331.0   \n",
       "419515  2025-01-18 00:59:00  137.6390  137.650  137.6000  137.6310  15287.0   \n",
       "\n",
       "       ticker  \n",
       "0        NVDA  \n",
       "1        NVDA  \n",
       "2        NVDA  \n",
       "3        NVDA  \n",
       "4        NVDA  \n",
       "...       ...  \n",
       "419511   NVDA  \n",
       "419512   NVDA  \n",
       "419513   NVDA  \n",
       "419514   NVDA  \n",
       "419515   NVDA  \n",
       "\n",
       "[419516 rows x 7 columns]"
      ]
     },
     "execution_count": 31,
     "metadata": {},
     "output_type": "execute_result"
    }
   ],
   "source": [
    "temp_financial = X_financial[X_financial['ticker'] == TICKERS[0]].copy()\n",
    "temp_financial"
   ]
  },
  {
   "cell_type": "code",
   "execution_count": 32,
   "metadata": {},
   "outputs": [
    {
     "ename": "TypeError",
     "evalue": "'>' not supported between instances of 'Timestamp' and 'numpy.int64'",
     "output_type": "error",
     "traceback": [
      "\u001b[1;31m---------------------------------------------------------------------------\u001b[0m",
      "\u001b[1;31mTypeError\u001b[0m                                 Traceback (most recent call last)",
      "Cell \u001b[1;32mIn[32], line 8\u001b[0m\n\u001b[0;32m      5\u001b[0m temp_nlp \u001b[38;5;241m=\u001b[39m X_nlp[[\u001b[38;5;124mf\u001b[39m\u001b[38;5;124m'\u001b[39m\u001b[38;5;132;01m{\u001b[39;00mt\u001b[38;5;132;01m}\u001b[39;00m\u001b[38;5;124m_score\u001b[39m\u001b[38;5;124m'\u001b[39m, \u001b[38;5;124mf\u001b[39m\u001b[38;5;124m'\u001b[39m\u001b[38;5;132;01m{\u001b[39;00mt\u001b[38;5;132;01m}\u001b[39;00m\u001b[38;5;124m_sentiment\u001b[39m\u001b[38;5;124m'\u001b[39m]]\u001b[38;5;241m.\u001b[39mcopy()\n\u001b[0;32m      7\u001b[0m \u001b[38;5;66;03m# Choose correct dates\u001b[39;00m\n\u001b[1;32m----> 8\u001b[0m start_date \u001b[38;5;241m=\u001b[39m \u001b[38;5;28;43mmax\u001b[39;49m\u001b[43m(\u001b[49m\u001b[43mtemp_financial\u001b[49m\u001b[38;5;241;43m.\u001b[39;49m\u001b[43mindex\u001b[49m\u001b[43m[\u001b[49m\u001b[38;5;241;43m0\u001b[39;49m\u001b[43m]\u001b[49m\u001b[43m,\u001b[49m\u001b[43m \u001b[49m\u001b[43mtemp_nlp\u001b[49m\u001b[38;5;241;43m.\u001b[39;49m\u001b[43mindex\u001b[49m\u001b[43m[\u001b[49m\u001b[38;5;241;43m0\u001b[39;49m\u001b[43m]\u001b[49m\u001b[43m)\u001b[49m\n\u001b[0;32m      9\u001b[0m end_date \u001b[38;5;241m=\u001b[39m \u001b[38;5;28mmin\u001b[39m(temp_financial\u001b[38;5;241m.\u001b[39mindex[\u001b[38;5;241m-\u001b[39m\u001b[38;5;241m1\u001b[39m], temp_nlp\u001b[38;5;241m.\u001b[39mindex[\u001b[38;5;241m-\u001b[39m\u001b[38;5;241m1\u001b[39m])\n\u001b[0;32m     11\u001b[0m \u001b[38;5;66;03m# Set dates in both dfs\u001b[39;00m\n",
      "\u001b[1;31mTypeError\u001b[0m: '>' not supported between instances of 'Timestamp' and 'numpy.int64'"
     ]
    }
   ],
   "source": [
    "all_data = []\n",
    "\n",
    "for t in TICKERS:\n",
    "    temp_financial = X_financial[X_financial['ticker'] == t].copy()\n",
    "    temp_nlp = X_nlp[[f'{t}_score', f'{t}_sentiment']].copy()\n",
    "\n",
    "    # Choose correct dates\n",
    "    start_date = max(temp_financial.index[0], temp_nlp.index[0])\n",
    "    end_date = min(temp_financial.index[-1], temp_nlp.index[-1])\n",
    "\n",
    "    # Set dates in both dfs\n",
    "    temp_financial = temp_financial.loc[temp_financial.index >= start_date]\n",
    "    temp_financial = temp_financial.loc[temp_financial.index <= end_date]\n",
    "\n",
    "    temp_nlp = temp_nlp.loc[temp_nlp.index >= start_date]\n",
    "    temp_nlp = temp_nlp.loc[temp_nlp.index <= end_date]\n",
    "\n",
    "    temp_financial = temp_financial.resample('1min').ffill()\n",
    "    temp_nlp = temp_nlp.resample('1min').ffill()\n",
    "\n",
    "\n",
    "    temp = pd.concat([temp_financial, temp_nlp], axis = 1)\n",
    "    all_data.append(temp)"
   ]
  },
  {
   "cell_type": "code",
   "execution_count": null,
   "metadata": {},
   "outputs": [],
   "source": [
    "# Good start for all\n",
    "start_date = max([temp.index[0] for temp in all_data])\n",
    "end_date = min([temp.index[-1] for temp in all_data])\n",
    "\n",
    "all_data = [\n",
    "    temp.loc[(temp.index >=start_date) & (temp.index <= end_date)]\n",
    "    for temp in all_data\n",
    "]\n",
    "\n",
    "iter = 0\n",
    "for temp in all_data:\n",
    "    start_date = temp.index[0]\n",
    "    end_date = temp.index[-1]\n",
    "    temp.to_csv(f'Data/ParsedDataForModel/{TICKERS[iter]}.csv')\n",
    "    print(f'Managed to save {TICKERS[iter]}.csv. Start date {start_date}, End date {end_date}')\n",
    "    iter = iter + 1"
   ]
  }
 ],
 "metadata": {
  "kernelspec": {
   "display_name": "Python 3",
   "language": "python",
   "name": "python3"
  },
  "language_info": {
   "codemirror_mode": {
    "name": "ipython",
    "version": 3
   },
   "file_extension": ".py",
   "mimetype": "text/x-python",
   "name": "python",
   "nbconvert_exporter": "python",
   "pygments_lexer": "ipython3",
   "version": "3.10.4"
  }
 },
 "nbformat": 4,
 "nbformat_minor": 2
}
